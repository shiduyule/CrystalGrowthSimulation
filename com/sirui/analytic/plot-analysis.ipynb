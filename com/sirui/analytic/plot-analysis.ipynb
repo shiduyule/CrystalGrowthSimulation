{
 "cells": [
  {
   "cell_type": "code",
   "execution_count": 120,
   "metadata": {
    "collapsed": false
   },
   "outputs": [],
   "source": [
    "%matplotlib inline\n",
    "\n",
    "import pandas as pd\n",
    "import numpy as np\n",
    "import matplotlib.pylab as plt\n",
    "\n"
   ]
  },
  {
   "cell_type": "code",
   "execution_count": 121,
   "metadata": {
    "collapsed": true
   },
   "outputs": [],
   "source": [
    "delta = 50\n",
    "beta_phi = [0.1, 0.2, 0.5, 1.0, 1.5, 2.0, 2.5, 3.0, 4.0, 5.0]\n",
    "beta_mu = [0.1, 0.2, 0.3, 0.5, 0.7, 1.0, 1.5, 2.0, 2.5, 3.0, 3.5, 4.0, 4.5, 5.0, 6.0, 7.0]"
   ]
  },
  {
   "cell_type": "code",
   "execution_count": 122,
   "metadata": {
    "collapsed": false
   },
   "outputs": [
    {
     "data": {
      "text/plain": [
       "[<matplotlib.lines.Line2D at 0x111cbeb50>]"
      ]
     },
     "execution_count": 122,
     "metadata": {},
     "output_type": "execute_result"
    },
    {
     "data": {
      "image/png": "[encoded data removed]",
      "text/plain": [
       "<matplotlib.figure.Figure at 0x1094dfcd0>"
      ]
     },
     "metadata": {},
     "output_type": "display_data"
    }
   ],
   "source": [
    "df01 = [None]*len(beta_mu)\n",
    "for i in range(len(beta_mu)):\n",
    "    df01[i] = pd.read_csv('images/sim_betaphi0.1_betamu%s/coverage.csv' % beta_mu[i], header=None)\n",
    "\n",
    "y01 = np.zeros(len(beta_mu))\n",
    "for i in range(len(beta_mu)):\n",
    "    y01[i] = (df01[i].loc[delta] - df01[i].loc[0]) / delta\n",
    "\n",
    "plt.plot(beta_mu, y01, 'ro')"
   ]
  },
  {
   "cell_type": "code",
   "execution_count": 123,
   "metadata": {
    "collapsed": false
   },
   "outputs": [
    {
     "data": {
      "text/plain": [
       "[<matplotlib.lines.Line2D at 0x111dd0bd0>]"
      ]
     },
     "execution_count": 123,
     "metadata": {},
     "output_type": "execute_result"
    },
    {
     "data": {
      "image/png": "[encoded data removed]",
      "text/plain": [
       "<matplotlib.figure.Figure at 0x111cdb290>"
      ]
     },
     "metadata": {},
     "output_type": "display_data"
    }
   ],
   "source": [
    "df02 = [None]*len(beta_mu)\n",
    "for i in range(len(beta_mu)):\n",
    "    df02[i] = pd.read_csv('images/sim_betaphi0.2_betamu%s/coverage.csv' % beta_mu[i], header=None)\n",
    "\n",
    "y02 = np.zeros(len(beta_mu))\n",
    "for i in range(len(beta_mu)):\n",
    "    y02[i] = (df02[i].loc[delta] - df02[i].loc[0]) / delta\n",
    "\n",
    "plt.plot(beta_mu, y02, 'ro')"
   ]
  },
  {
   "cell_type": "code",
   "execution_count": 124,
   "metadata": {
    "collapsed": false
   },
   "outputs": [
    {
     "data": {
      "text/plain": [
       "[<matplotlib.lines.Line2D at 0x111ee4b50>]"
      ]
     },
     "execution_count": 124,
     "metadata": {},
     "output_type": "execute_result"
    },
    {
     "data": {
      "image/png": "[encoded data removed]",
      "text/plain": [
       "<matplotlib.figure.Figure at 0x111def3d0>"
      ]
     },
     "metadata": {},
     "output_type": "display_data"
    }
   ],
   "source": [
    "df05 = [None]*len(beta_mu)\n",
    "for i in range(len(beta_mu)):\n",
    "    df05[i] = pd.read_csv('images/sim_betaphi0.5_betamu%s/coverage.csv' % beta_mu[i], header=None)\n",
    "\n",
    "y05 = np.zeros(len(beta_mu))\n",
    "for i in range(len(beta_mu)):\n",
    "    y05[i] = (df05[i].loc[delta] - df05[i].loc[0]) / delta\n",
    "\n",
    "plt.plot(beta_mu, y05, 'ro')"
   ]
  },
  {
   "cell_type": "code",
   "execution_count": 125,
   "metadata": {
    "collapsed": false
   },
   "outputs": [
    {
     "data": {
      "text/plain": [
       "0.00067555555555555533"
      ]
     },
     "execution_count": 125,
     "metadata": {},
     "output_type": "execute_result"
    }
   ],
   "source": [
    "y05[4]"
   ]
  },
  {
   "cell_type": "code",
   "execution_count": 126,
   "metadata": {
    "collapsed": false
   },
   "outputs": [
    {
     "data": {
      "text/plain": [
       "[<matplotlib.lines.Line2D at 0x111ffa990>]"
      ]
     },
     "execution_count": 126,
     "metadata": {},
     "output_type": "execute_result"
    },
    {
     "data": {
      "image/png": "[encoded data removed]",
      "text/plain": [
       "<matplotlib.figure.Figure at 0x111f00990>"
      ]
     },
     "metadata": {},
     "output_type": "display_data"
    }
   ],
   "source": [
    "df1 = [None]*len(beta_mu)\n",
    "for i in range(len(beta_mu)):\n",
    "    df1[i] = pd.read_csv('images/sim_betaphi1.0_betamu%s/coverage.csv' % beta_mu[i], header=None)\n",
    "\n",
    "y1 = np.zeros(len(beta_mu))\n",
    "for i in range(len(beta_mu)):\n",
    "    y1[i] = (df1[i].loc[delta] - df1[i].loc[0]) / delta\n",
    "\n",
    "plt.plot(beta_mu, y1, 'ro')"
   ]
  },
  {
   "cell_type": "code",
   "execution_count": 127,
   "metadata": {
    "collapsed": false
   },
   "outputs": [
    {
     "data": {
      "text/plain": [
       "[<matplotlib.lines.Line2D at 0x11210fa50>]"
      ]
     },
     "execution_count": 127,
     "metadata": {},
     "output_type": "execute_result"
    },
    {
     "data": {
      "image/png": "[encoded data removed]",
      "text/plain": [
       "<matplotlib.figure.Figure at 0x111f4ffd0>"
      ]
     },
     "metadata": {},
     "output_type": "display_data"
    }
   ],
   "source": [
    "df15 = [None]*len(beta_mu)\n",
    "for i in range(len(beta_mu)):\n",
    "    df15[i] = pd.read_csv('images/sim_betaphi1.5_betamu%s/coverage.csv' % beta_mu[i], header=None)\n",
    "\n",
    "y15 = np.zeros(len(beta_mu))\n",
    "for i in range(len(beta_mu)):\n",
    "    y15[i] = (df15[i].loc[delta] - df15[i].loc[0]) / delta\n",
    "\n",
    "plt.plot(beta_mu, y15, 'ro')"
   ]
  },
  {
   "cell_type": "code",
   "execution_count": 128,
   "metadata": {
    "collapsed": false
   },
   "outputs": [
    {
     "data": {
      "text/plain": [
       "[<matplotlib.lines.Line2D at 0x112225990>]"
      ]
     },
     "execution_count": 128,
     "metadata": {},
     "output_type": "execute_result"
    },
    {
     "data": {
      "image/png": "[encoded data removed]",
      "text/plain": [
       "<matplotlib.figure.Figure at 0x112070650>"
      ]
     },
     "metadata": {},
     "output_type": "display_data"
    }
   ],
   "source": [
    "df2 = [None]*len(beta_mu)\n",
    "for i in range(len(beta_mu)):\n",
    "    df2[i] = pd.read_csv('images/sim_betaphi2.0_betamu%s/coverage.csv' % beta_mu[i], header=None)\n",
    "\n",
    "y2 = np.zeros(len(beta_mu))\n",
    "for i in range(len(beta_mu)):\n",
    "    y2[i] = (df2[i].loc[delta] - df2[i].loc[0]) / delta\n",
    "\n",
    "plt.plot(beta_mu, y2, 'ro')"
   ]
  },
  {
   "cell_type": "code",
   "execution_count": 129,
   "metadata": {
    "collapsed": false
   },
   "outputs": [
    {
     "data": {
      "text/plain": [
       "[<matplotlib.lines.Line2D at 0x112344b90>]"
      ]
     },
     "execution_count": 129,
     "metadata": {},
     "output_type": "execute_result"
    },
    {
     "data": {
      "image/png": "[encoded data removed]",
      "text/plain": [
       "<matplotlib.figure.Figure at 0x112243350>"
      ]
     },
     "metadata": {},
     "output_type": "display_data"
    }
   ],
   "source": [
    "df25 = [None]*len(beta_mu)\n",
    "for i in range(len(beta_mu)):\n",
    "    df25[i] = pd.read_csv('images/sim_betaphi2.5_betamu%s/coverage.csv' % beta_mu[i], header=None)\n",
    "\n",
    "y25 = np.zeros(len(beta_mu))\n",
    "for i in range(len(beta_mu)):\n",
    "    y25[i] = (df25[i].loc[delta] - df25[i].loc[0]) / delta\n",
    "\n",
    "plt.plot(beta_mu, y25, 'ro')"
   ]
  },
  {
   "cell_type": "code",
   "execution_count": 130,
   "metadata": {
    "collapsed": false
   },
   "outputs": [
    {
     "data": {
      "text/plain": [
       "[<matplotlib.lines.Line2D at 0x1124760d0>]"
      ]
     },
     "execution_count": 130,
     "metadata": {},
     "output_type": "execute_result"
    },
    {
     "data": {
      "image/png": "[encoded data removed]",
      "text/plain": [
       "<matplotlib.figure.Figure at 0x112360190>"
      ]
     },
     "metadata": {},
     "output_type": "display_data"
    }
   ],
   "source": [
    "df3 = [None]*len(beta_mu)\n",
    "for i in range(len(beta_mu)):\n",
    "    df3[i] = pd.read_csv('images/sim_betaphi3.0_betamu%s/coverage.csv' % beta_mu[i], header=None)\n",
    "\n",
    "y3 = np.zeros(len(beta_mu))\n",
    "for i in range(len(beta_mu)):\n",
    "    y3[i] = (df3[i].loc[delta] - df3[i].loc[0]) / delta\n",
    "\n",
    "plt.plot(beta_mu, y3, 'ro')"
   ]
  },
  {
   "cell_type": "code",
   "execution_count": 131,
   "metadata": {
    "collapsed": false
   },
   "outputs": [
    {
     "data": {
      "text/plain": [
       "[<matplotlib.lines.Line2D at 0x112598550>]"
      ]
     },
     "execution_count": 131,
     "metadata": {},
     "output_type": "execute_result"
    },
    {
     "data": {
      "image/png": "[encoded data removed]",
      "text/plain": [
       "<matplotlib.figure.Figure at 0x112489050>"
      ]
     },
     "metadata": {},
     "output_type": "display_data"
    }
   ],
   "source": [
    "df4 = [None]*len(beta_mu)\n",
    "for i in range(len(beta_mu)):\n",
    "    df4[i] = pd.read_csv('images/sim_betaphi4.0_betamu%s/coverage.csv' % beta_mu[i], header=None)\n",
    "\n",
    "y4 = np.zeros(len(beta_mu))\n",
    "for i in range(len(beta_mu)):\n",
    "    y4[i] = (df4[i].loc[delta] - df4[i].loc[0]) / delta\n",
    "\n",
    "plt.plot(beta_mu, y4, 'ro')"
   ]
  },
  {
   "cell_type": "code",
   "execution_count": 132,
   "metadata": {
    "collapsed": false
   },
   "outputs": [
    {
     "data": {
      "text/plain": [
       "[<matplotlib.lines.Line2D at 0x1126ce1d0>]"
      ]
     },
     "execution_count": 132,
     "metadata": {},
     "output_type": "execute_result"
    },
    {
     "data": {
      "image/png": "[encoded data removed]",
      "text/plain": [
       "<matplotlib.figure.Figure at 0x1125b5350>"
      ]
     },
     "metadata": {},
     "output_type": "display_data"
    }
   ],
   "source": [
    "df5 = [None]*len(beta_mu)\n",
    "for i in range(len(beta_mu)):\n",
    "    df5[i] = pd.read_csv('images/sim_betaphi5.0_betamu%s/coverage.csv' % beta_mu[i], header=None)\n",
    "\n",
    "y5 = np.zeros(len(beta_mu))\n",
    "for i in range(len(beta_mu)):\n",
    "    y5[i] = (df5[i].loc[delta] - df5[i].loc[0]) / delta\n",
    "\n",
    "plt.plot(beta_mu, y5, 'ro')"
   ]
  }
 ],
 "metadata": {
  "kernelspec": {
   "display_name": "Python 2",
   "language": "python",
   "name": "python2"
  },
  "language_info": {
   "codemirror_mode": {
    "name": "ipython",
    "version": 2
   },
   "file_extension": ".py",
   "mimetype": "text/x-python",
   "name": "python",
   "nbconvert_exporter": "python",
   "pygments_lexer": "ipython2",
   "version": "2.7.10"
  }
 },
 "nbformat": 4,
 "nbformat_minor": 0
}
